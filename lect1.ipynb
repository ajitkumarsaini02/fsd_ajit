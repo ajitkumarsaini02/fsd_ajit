{
 "cells": [
  {
   "cell_type": "code",
   "execution_count": null,
   "id": "9c93d786",
   "metadata": {},
   "outputs": [],
   "source": [
    "\n",
    "mystring = \"Hello World\"\n",
    "a = mystring[8]\n",
    "print(a)"
   ]
  },
  {
   "cell_type": "code",
   "execution_count": null,
   "id": "e77c090a",
   "metadata": {},
   "outputs": [],
   "source": [
    "set('Mississippi')"
   ]
  },
  {
   "cell_type": "code",
   "execution_count": null,
   "id": "5a0e22fb",
   "metadata": {},
   "outputs": [],
   "source": [
    "a=123\n",
    "b='abes'\n",
    "c= str(a) + b\n",
    "print(c)\n",
    "#typecast\n",
    "#explicit typecast"
   ]
  },
  {
   "cell_type": "code",
   "execution_count": null,
   "id": "734c6f85",
   "metadata": {},
   "outputs": [],
   "source": [
    "a=2 \n",
    "b=2.5\n",
    "c=a + b\n",
    "print(c)\n",
    "type(c)\n",
    "#automatic typecast"
   ]
  },
  {
   "cell_type": "code",
   "execution_count": null,
   "id": "a23ab574",
   "metadata": {},
   "outputs": [],
   "source": [
    "a = int(input('enter a number')) #always in the string need to typecast\n",
    "b = int(input('enter a number')) #always in the string need to typecast\n",
    "c= a+b\n",
    "c"
   ]
  },
  {
   "cell_type": "code",
   "execution_count": null,
   "id": "96a04819",
   "metadata": {},
   "outputs": [],
   "source": [
    "p = float(input('enter a amount')) \n",
    "r = float(input('enter a rate'))\n",
    "t = float(input('enter a time'))\n",
    "si = (p*r*t)/100\n",
    "print(si)"
   ]
  },
  {
   "cell_type": "code",
   "execution_count": null,
   "id": "2816913b",
   "metadata": {},
   "outputs": [],
   "source": [
    "a = 5\n",
    "b = 10\n",
    "print(a)\n",
    "print(\"abes\")\n",
    "print(a>b)\n",
    "print(a+b)\n",
    "print(5/2)\n",
    "print(ab)\n",
    "print('ab')\n",
    "print(type(a))"
   ]
  },
  {
   "cell_type": "code",
   "execution_count": null,
   "id": "98246bb3",
   "metadata": {},
   "outputs": [],
   "source": [
    "a = 2\n",
    "b = 3\n",
    "print(a+b)\n",
    "print(a-b)\n",
    "print(a*b)\n",
    "print(a/b)\n",
    "print(a**b)\n",
    "print(a%b)\n",
    "print(a//b)"
   ]
  },
  {
   "cell_type": "code",
   "execution_count": null,
   "id": "919e05b9",
   "metadata": {},
   "outputs": [],
   "source": [
    "x=5\n",
    "dir(x)\n",
    "#directories"
   ]
  },
  {
   "cell_type": "code",
   "execution_count": null,
   "id": "470e389e",
   "metadata": {},
   "outputs": [],
   "source": [
    "x=2\n",
    "y=3.4\n",
    "type(x)\n",
    "type(y)"
   ]
  },
  {
   "cell_type": "code",
   "execution_count": null,
   "id": "4ef72226",
   "metadata": {},
   "outputs": [],
   "source": [
    "# Basic I/O operation\n",
    "#input for input the string\n",
    "#print for print the value\n",
    "a = input(\"Enter first no\")\n",
    "b= input(\"ENter second number\")\n",
    "c=a+b\n",
    "print(\"The sum is\",c)\n"
   ]
  }
 ],
 "metadata": {
  "kernelspec": {
   "display_name": "Python 3",
   "language": "python",
   "name": "python3"
  },
  "language_info": {
   "codemirror_mode": {
    "name": "ipython",
    "version": 3
   },
   "file_extension": ".py",
   "mimetype": "text/x-python",
   "name": "python",
   "nbconvert_exporter": "python",
   "pygments_lexer": "ipython3",
   "version": "3.13.7"
  }
 },
 "nbformat": 4,
 "nbformat_minor": 5
}
