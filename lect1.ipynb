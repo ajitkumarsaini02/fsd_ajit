{
  "nbformat": 4,
  "nbformat_minor": 0,
  "metadata": {
    "colab": {
      "provenance": [],
      "authorship_tag": "ABX9TyOap1Bm8vJUanif4SomJ41a",
      "include_colab_link": true
    },
    "kernelspec": {
      "name": "python3",
      "display_name": "Python 3"
    },
    "language_info": {
      "name": "python"
    }
  },
  "cells": [
    {
      "cell_type": "markdown",
      "metadata": {
        "id": "view-in-github",
        "colab_type": "text"
      },
      "source": [
        "<a href=\"https://colab.research.google.com/github/ajitkumarsaini02/fsd_ajit/blob/main/lect1.ipynb\" target=\"_parent\"><img src=\"https://colab.research.google.com/assets/colab-badge.svg\" alt=\"Open In Colab\"/></a>"
      ]
    },
    {
      "cell_type": "markdown",
      "source": [
        "🔑 Important Points:\n",
        "\n",
        "Typecasting → Converting one data type into another.\n",
        "\n",
        "Here, we converted a (int) → str(a) (string).\n",
        "\n",
        "Explicit Typecasting → Done manually by the programmer using functions like:\n",
        "\n",
        "int() → converts to integer\n",
        "\n",
        "float() → converts to float\n",
        "\n",
        "str() → converts to string\n",
        "\n",
        "list(), tuple(), etc.\n",
        "\n",
        "✅ In your code, str(a) is explicit typecasting."
      ],
      "metadata": {
        "id": "SGYdMbHB6O_n"
      }
    },
    {
      "cell_type": "code",
      "execution_count": 3,
      "metadata": {
        "id": "n8FXxsIaUS7e",
        "colab": {
          "base_uri": "https://localhost:8080/"
        },
        "outputId": "de99a8b3-f842-459b-e46e-dcd5b1d0de6d"
      },
      "outputs": [
        {
          "output_type": "stream",
          "name": "stdout",
          "text": [
            "123abes\n"
          ]
        }
      ],
      "source": [
        "a=123\n",
        "b='abes'\n",
        "c= str(a) + b\n",
        "print(c)\n",
        "#typecast\n",
        "#explicit typecast"
      ]
    },
    {
      "cell_type": "markdown",
      "source": [
        "👉Automatic typecasting (also called type conversion).\n",
        "\n",
        "* Python automatically converts int → float during arithmetic if needed.\n",
        "\n",
        "* It chooses the higher data type to avoid data loss.\n",
        "\n",
        "* So:\n",
        "\n",
        "   * int + int → int\n",
        "\n",
        "   * float + float → float\n",
        "\n",
        "   * int + float → float ✅ (automatic typecast)"
      ],
      "metadata": {
        "id": "8QDSs4YLv6rq"
      }
    },
    {
      "cell_type": "markdown",
      "source": [
        "👉 Typecasting types in short:\n",
        "\n",
        "1. Explicit typecasting → You convert manually using int(), float(), str() etc."
      ],
      "metadata": {
        "id": "VoLnZbhFwZZF"
      }
    },
    {
      "cell_type": "code",
      "source": [
        "x = int(\"10\")  # string → int\n"
      ],
      "metadata": {
        "id": "FHHNMqWLwRt5"
      },
      "execution_count": 4,
      "outputs": []
    },
    {
      "cell_type": "markdown",
      "source": [
        "2. Implicit typecasting (automatic) → Python converts automatically."
      ],
      "metadata": {
        "id": "5OQpnqTdwe8N"
      }
    },
    {
      "cell_type": "code",
      "source": [
        "a=2\n",
        "b=2.5\n",
        "c=a + b\n",
        "print(c)\n",
        "type(c)\n",
        "#automatic typecast"
      ],
      "metadata": {
        "colab": {
          "base_uri": "https://localhost:8080/"
        },
        "id": "QR_LfVUBqvml",
        "outputId": "4d935ff0-a8b4-4cd8-ea40-6254fbda70f3"
      },
      "execution_count": 5,
      "outputs": [
        {
          "output_type": "stream",
          "name": "stdout",
          "text": [
            "4.5\n"
          ]
        },
        {
          "output_type": "execute_result",
          "data": {
            "text/plain": [
              "float"
            ]
          },
          "metadata": {},
          "execution_count": 5
        }
      ]
    },
    {
      "cell_type": "markdown",
      "source": [
        "⚡👉 In short:\n",
        "\n",
        "* input() → string\n",
        "\n",
        "* int() → converts to integer\n",
        "\n",
        "* (+) → adds numbers\n",
        "\n",
        "* Use print() to display."
      ],
      "metadata": {
        "id": "tuTM1B5LvIGb"
      }
    },
    {
      "cell_type": "code",
      "source": [
        "a = int(input('enter a number')) #always in the string need to typecast\n",
        "b = int(input('enter a number')) #always in the string need to typecast\n",
        "c= a+b\n",
        "c"
      ],
      "metadata": {
        "id": "JJS5tcs-rNq5"
      },
      "execution_count": null,
      "outputs": []
    },
    {
      "cell_type": "markdown",
      "source": [
        "⚡👉 In short:\n",
        "\n",
        "* input() → take user values\n",
        "\n",
        "* float() → allows decimals\n",
        "\n",
        "* Formula used: SI = (P × R × T) / 100\n",
        "\n",
        "* print() → displays the simple interest."
      ],
      "metadata": {
        "id": "0jjbvnHiuuBA"
      }
    },
    {
      "cell_type": "code",
      "source": [
        "p = float(input('enter a amount'))\n",
        "r = float(input('enter a rate'))\n",
        "t = float(input('enter a time'))\n",
        "si = (p*r*t)/100\n",
        "print(si)"
      ],
      "metadata": {
        "id": "eyyHuczsrQfZ"
      },
      "execution_count": null,
      "outputs": []
    },
    {
      "cell_type": "markdown",
      "source": [
        "| Operator | Name                | Example (`a=10, b=3`) | Result |\n",
        "| -------- | ------------------- | --------------------- | ------ |\n",
        "| `+`      | Addition            | `a + b`               | 13     |\n",
        "| `-`      | Subtraction         | `a - b`               | 7      |\n",
        "| `*`      | Multiplication      | `a * b`               | 30     |\n",
        "| `/`      | Division (float)    | `a / b`               | 3.333… |\n",
        "| `//`     | Floor Division      | `a // b`              | 3      |\n",
        "| `%`      | Modulus (remainder) | `a % b`               | 1      |\n",
        "| `**`     | Exponent (power)    | `a ** b`              | 1000   |\n"
      ],
      "metadata": {
        "id": "m7NfpiaiuWNX"
      }
    },
    {
      "cell_type": "code",
      "source": [
        "a = 5\n",
        "b = 10\n",
        "print(a)\n",
        "print(\"abes\")\n",
        "print(a>b)\n",
        "print(a+b)\n",
        "print(5/2)\n",
        "print(ab)\n",
        "print('ab')\n",
        "print(type(a))"
      ],
      "metadata": {
        "id": "SszZDDaArSal"
      },
      "execution_count": null,
      "outputs": []
    },
    {
      "cell_type": "markdown",
      "source": [
        "👉 In short:\n",
        "\n",
        " *  (+) add\n",
        "\n",
        " *  (-) subtract\n",
        "\n",
        "*  (*) multiply\n",
        "\n",
        "*  (/) divide\n",
        "\n",
        "*  (**) power\n",
        "\n",
        " * (%) modulo division\n",
        "\n",
        " * (//) quotient (no decimal)"
      ],
      "metadata": {
        "id": "Iz5J6J4FtFSQ"
      }
    },
    {
      "cell_type": "code",
      "source": [
        "a = 2\n",
        "b = 3\n",
        "print(a+b)\n",
        "print(a-b)\n",
        "print(a*b)\n",
        "print(a/b)\n",
        "print(a**b)\n",
        "print(a%b)\n",
        "print(a//b)"
      ],
      "metadata": {
        "id": "DR5paskgrVYQ"
      },
      "execution_count": null,
      "outputs": []
    },
    {
      "cell_type": "markdown",
      "source": [
        "🔹 What dir() does:\n",
        "\n",
        " *  dir(object) → shows all the attributes and methods available for that object.\n",
        "\n",
        " * Here, x = 5 (an integer).\n",
        "\n",
        "  So, dir(x) lists all the built-in functions you can use with an int."
      ],
      "metadata": {
        "id": "DCDZSGbZsljk"
      }
    },
    {
      "cell_type": "code",
      "source": [
        "x=5\n",
        "dir(x)\n",
        "#directories"
      ],
      "metadata": {
        "id": "nT79iz4HrYoW"
      },
      "execution_count": null,
      "outputs": []
    },
    {
      "cell_type": "markdown",
      "source": [
        "👉 type() just tells you what kind of data a variable stores."
      ],
      "metadata": {
        "id": "YgUrGqcLsTDV"
      }
    },
    {
      "cell_type": "code",
      "source": [
        "x=2\n",
        "y=3.4\n",
        "type(x)\n",
        "type(y)"
      ],
      "metadata": {
        "id": "g-bHRbSIrcCU"
      },
      "execution_count": null,
      "outputs": []
    },
    {
      "cell_type": "markdown",
      "source": [
        "👉Working:\n",
        "\n",
        "input() → takes value as string.\n",
        "\n",
        "a + b → joins (concatenates) strings, not adds numbers.\n",
        "Example: 10 and 20 → \"10\" + \"20\" = \"1020\".\n",
        "\n",
        "print() → shows output on screen."
      ],
      "metadata": {
        "id": "cV3283mZr2B5"
      }
    },
    {
      "cell_type": "code",
      "source": [
        "# Basic I/O operation\n",
        "#input for input the string\n",
        "#print for print the value\n",
        "a = input(\"Enter first no\")\n",
        "b= input(\"ENter second number\")\n",
        "c=a+b\n",
        "print(\"The sum is\",c)\n"
      ],
      "metadata": {
        "id": "3FKFRk3ireP1"
      },
      "execution_count": null,
      "outputs": []
    },
    {
      "cell_type": "markdown",
      "source": [
        "👉 Explanation of Operators:\n",
        "\n",
        "* (>)  greater than\n",
        "\n",
        "* (<) less than\n",
        "\n",
        "* (>=) greater or equal\n",
        "\n",
        "* (<=) smaller or equal\n",
        "\n",
        "* (==) equal (checks value)\n",
        "\n",
        "* (!=) not equal"
      ],
      "metadata": {
        "id": "fqzUjFFXxiQO"
      }
    },
    {
      "cell_type": "code",
      "source": [
        "# ARITHMETIC OPERATORS\n",
        "# > : greater than\n",
        "# < : less than\n",
        "# >= : greater than or equal to\n",
        "# <= : smaller than or equal\n",
        "# != : Not equal to\n",
        "# == : Equal to\n",
        "a= 20\n",
        "b= 5\n",
        "x= 1\n",
        "y= 2\n",
        "print(a>b)\n",
        "print(a<b)\n",
        "print(a>=b)\n",
        "print(a<=b)\n",
        "print(x==y)\n",
        "print(x!=y)"
      ],
      "metadata": {
        "id": "mrp_KQ3cx6Jy"
      },
      "execution_count": null,
      "outputs": []
    },
    {
      "cell_type": "markdown",
      "source": [
        "👉 Swapping  \n",
        "     Swapping means exchanging the values of two variables.\n",
        "    Example:\n",
        "  If a = 5 and b = 10, after swapping → a = 10 and b = 5.\n",
        "\n",
        "🔹 Swapping with Third Variable\n",
        "\n",
        "   A temporary variable (temp) is used to hold one value during the swap.\n",
        "\n",
        "   This prevents losing the original value of a variable.\n",
        "\n",
        " Steps:\n",
        "\n",
        "* Store value of a in temp.\n",
        "\n",
        "* Assign value of b to a.\n",
        "\n",
        "* Assign value of temp (old a) to b."
      ],
      "metadata": {
        "id": "u_5NzSrxySIG"
      }
    },
    {
      "cell_type": "code",
      "source": [
        "#swapping with third variable\n",
        "a= int(input(\"Enter First no\"))\n",
        "b= int(input(\"Enter Second no\"))\n",
        "temp = a\n",
        "a= b\n",
        "b= temp\n",
        "print(\"After swapping \",a,b)\n",
        "\n"
      ],
      "metadata": {
        "id": "OGkG15utx_Oq"
      },
      "execution_count": null,
      "outputs": []
    },
    {
      "cell_type": "markdown",
      "source": [
        "🔹 Explanation of Operators:\n",
        "\n",
        "* += → add and assign\n",
        "\n",
        "* -= → subtract and assign\n",
        "\n",
        "* *= → multiply and assign\n",
        "\n",
        "* /= → divide and assign (result becomes float)\n",
        "\n",
        "* %= → modulus and assign (remainder)"
      ],
      "metadata": {
        "id": "rj2fAN2KzbgZ"
      }
    },
    {
      "cell_type": "code",
      "source": [
        "# Assignment Operators\n",
        "a = 2\n",
        "b = 4\n",
        "a+=2\n",
        "a-=2\n",
        "a*=2\n",
        "a/=2\n",
        "a%=2\n"
      ],
      "metadata": {
        "id": "ITukgWg9y6Vt"
      },
      "execution_count": null,
      "outputs": []
    },
    {
      "cell_type": "markdown",
      "source": [
        "👉 ASSIGNMENT OPERATORS\n",
        "| Expression   | `and` | `or`  | `not` |\n",
        "| ------------ | ----- | ----- | ----- |\n",
        "| True, True   | True  | True  | False |\n",
        "| True, False  | False | True  |       |\n",
        "| False, True  | False | True  |       |\n",
        "| False, False | False | False | True  |\n"
      ],
      "metadata": {
        "id": "GLoXhV-Qz2u3"
      }
    },
    {
      "cell_type": "code",
      "source": [
        "#logical operator\n",
        "a = 10\n",
        "b= 20\n",
        "c= (a>5) and (b==20)\n",
        "d = not(a>10) and (b>20)\n",
        "print(d)\n",
        "print(c)"
      ],
      "metadata": {
        "id": "FVeFgsucznQD"
      },
      "execution_count": null,
      "outputs": []
    },
    {
      "cell_type": "markdown",
      "source": [
        "👉 In short (theory):\n",
        "\n",
        "* & AND → 1 if both 1\n",
        "\n",
        "* | OR → 1 if any 1\n",
        "\n",
        "* ~ NOT → flips bits (gives negative in Python)\n",
        "\n",
        "* ^ XOR → 1 if different\n",
        "\n",
        "* (>>) right shift → divide by 2ⁿ\n",
        "\n",
        "* << left shift → multiply by 2ⁿ"
      ],
      "metadata": {
        "id": "6Vd724ug0IEO"
      }
    },
    {
      "cell_type": "code",
      "source": [
        "# BITWISE OPERATOR\n",
        "a = 10\n",
        "b = 4\n",
        "print(a&b) # Bitwise AND\n",
        "print(a | b) # Bitwise OR\n",
        "print(~b) # Bitwise NOT\n",
        "print(a ^ b) # Bitwise XOR\n",
        "print(a >> 2) # Bitwise right shift\n",
        "print(a << 2) # Bitwise left shift\n",
        "print(64 >> 2)\n"
      ],
      "metadata": {
        "id": "lNZRUWdlz68q"
      },
      "execution_count": null,
      "outputs": []
    },
    {
      "cell_type": "markdown",
      "source": [
        "👉 1. Identity Operators (is, is not)\n",
        "\n",
        "* These check if two variables point to the same object in memory (not just same value).\n",
        "\n",
        "* is → True if both variables refer to the same object.\n",
        "\n",
        "* is not → True if they do not refer to the same object.\n",
        "\n",
        "👉 2. Equality Operators (==, !=)\n",
        "\n",
        "* These check if the values (contents) are same, not memory location.\n",
        "\n",
        "* == → True if contents are same.\n",
        "\n",
        "* != → True if contents are different."
      ],
      "metadata": {
        "id": "vyNMLIY408ne"
      }
    },
    {
      "cell_type": "code",
      "source": [
        "# IDENTITY AND MEMBERSHIP OPERATOR:\n",
        "a = \"college\"\n",
        "b=  \"ABES\"\n",
        "c = [\"College\", \"ABES\"]\n",
        "d = [\"College\", \"ABES\"]\n",
        "e = c\n",
        "print(c is e)\n",
        "# Return True because e is the same object of as c\n",
        "print(c is not e)\n",
        "# Return False because e is the same object as c\n",
        "print(c is not d)\n",
        "# Return True because c is the same object as d, even if they have same content\n",
        "\n",
        "print(c != d)\n",
        "# to demonstate the difference between \" is not \" and\n",
        "# \"!=\" : this comarison return False because c is equal to d"
      ],
      "metadata": {
        "id": "moy_qiB50XMr"
      },
      "execution_count": null,
      "outputs": []
    }
  ]
}