{
 "cells": [
  {
   "cell_type": "code",
   "execution_count": null,
   "id": "f8ed4ddb",
   "metadata": {},
   "outputs": [
    {
     "name": "stdout",
     "output_type": "stream",
     "text": [
      "True\n",
      "False\n",
      "True\n",
      "False\n",
      "False\n",
      "True\n"
     ]
    }
   ],
   "source": [
    "# ARITHMETIC OPERATORS\n",
    "# > : greater than\n",
    "# < : less than\n",
    "# >= : greater than or equal to\n",
    "# <= : smaller than or equal\n",
    "# != : Not equal to\n",
    "# == : Equal to\n",
    "a= 20\n",
    "b= 5\n",
    "x= 1\n",
    "y= 2\n",
    "print(a>b)\n",
    "print(a<b)\n",
    "print(a>=b)\n",
    "print(a<=b)\n",
    "print(x==y)\n",
    "print(x!=y)"
   ]
  },
  {
   "cell_type": "code",
   "execution_count": 5,
   "id": "cdb84b34",
   "metadata": {},
   "outputs": [
    {
     "name": "stdout",
     "output_type": "stream",
     "text": [
      "After swapping  4 2\n"
     ]
    }
   ],
   "source": [
    "#swapping with third variable\n",
    "a= int(input(\"Enter First no\"))\n",
    "b= int(input(\"Enter Second no\"))\n",
    "temp = a\n",
    "a= b\n",
    "b= temp\n",
    "print(\"After swapping \",a,b)\n",
    "\n"
   ]
  },
  {
   "cell_type": "code",
   "execution_count": null,
   "id": "00795211",
   "metadata": {},
   "outputs": [],
   "source": [
    "# Assignment Operators\n",
    "a = 2\n",
    "b = 4\n",
    "a+=2\n",
    "a-=2\n",
    "a*=2\n",
    "a/=2\n",
    "a%=2\n"
   ]
  },
  {
   "cell_type": "code",
   "execution_count": 12,
   "id": "09492b3d",
   "metadata": {},
   "outputs": [
    {
     "name": "stdout",
     "output_type": "stream",
     "text": [
      "False\n",
      "True\n"
     ]
    }
   ],
   "source": [
    "#logical operator\n",
    "a = 10\n",
    "b= 20\n",
    "c= (a>5) and (b==20)\n",
    "d = not(a>10) and (b>20)\n",
    "print(d)\n",
    "print(c)"
   ]
  },
  {
   "cell_type": "code",
   "execution_count": 16,
   "id": "b25e425f",
   "metadata": {},
   "outputs": [
    {
     "name": "stdout",
     "output_type": "stream",
     "text": [
      "0\n",
      "14\n",
      "-5\n",
      "14\n",
      "2\n",
      "40\n",
      "16\n"
     ]
    }
   ],
   "source": [
    "# BITWISE OPERATOR\n",
    "a = 10\n",
    "b = 4\n",
    "print(a&b) # Bitwise AND\n",
    "print(a | b) # Bitwise OR\n",
    "print(~b) # Bitwise NOT\n",
    "print(a ^ b) # Bitwise XOR\n",
    "print(a >> 2) # Bitwise right shift\n",
    "print(a << 2) # Bitwise left shift\n",
    "print(64 >> 2)\n"
   ]
  },
  {
   "cell_type": "code",
   "execution_count": null,
   "id": "148d808c",
   "metadata": {},
   "outputs": [
    {
     "name": "stdout",
     "output_type": "stream",
     "text": [
      "True\n",
      "False\n",
      "True\n",
      "False\n"
     ]
    }
   ],
   "source": [
    "# IDENTITY AND MEMBERSHIP OPERATOR: \n",
    "a = \"college\"\n",
    "b=  \"ABES\"\n",
    "c = [\"College\", \"ABES\"]\n",
    "d = [\"College\", \"ABES\"]\n",
    "e = c\n",
    "print(c is e)\n",
    "# Return True because e is the same object of as c\n",
    "print(c is not e)\n",
    "# Return False because e is the same object as c\n",
    "print(c is not d)\n",
    "# Return True because c is the same object as d, even if they have same content\n",
    "\n",
    "print(c != d)\n",
    "# to demonstate the difference between \" is not \" and\n",
    "# \"!=\" : this comarison return False because c is equal to d"
   ]
  }
 ],
 "metadata": {
  "kernelspec": {
   "display_name": "Python 3",
   "language": "python",
   "name": "python3"
  },
  "language_info": {
   "codemirror_mode": {
    "name": "ipython",
    "version": 3
   },
   "file_extension": ".py",
   "mimetype": "text/x-python",
   "name": "python",
   "nbconvert_exporter": "python",
   "pygments_lexer": "ipython3",
   "version": "3.13.7"
  }
 },
 "nbformat": 4,
 "nbformat_minor": 5
}
